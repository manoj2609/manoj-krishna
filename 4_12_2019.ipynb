{
  "nbformat": 4,
  "nbformat_minor": 0,
  "metadata": {
    "colab": {
      "name": "4-12-2019",
      "provenance": [],
      "collapsed_sections": [],
      "include_colab_link": true
    },
    "kernelspec": {
      "name": "python3",
      "display_name": "Python 3"
    }
  },
  "cells": [
    {
      "cell_type": "markdown",
      "metadata": {
        "id": "view-in-github",
        "colab_type": "text"
      },
      "source": [
        "<a href=\"https://colab.research.google.com/github/manoj2609/manoj-krishna/blob/master/4_12_2019.ipynb\" target=\"_parent\"><img src=\"https://colab.research.google.com/assets/colab-badge.svg\" alt=\"Open In Colab\"/></a>"
      ]
    },
    {
      "cell_type": "markdown",
      "metadata": {
        "id": "53SgtvKOaosC",
        "colab_type": "text"
      },
      "source": [
        "# day objectives\n",
        "- loop examples\n",
        "- functions(user defined functions)\n",
        "- strings,list and tuples"
      ]
    },
    {
      "cell_type": "code",
      "metadata": {
        "id": "AhGspH_Va84A",
        "colab_type": "code",
        "colab": {}
      },
      "source": [
        "# read the number as input\n",
        "# print the output as digits of the number\n",
        "# test cases :-\n",
        "# 145 -- 5 4 1\n",
        "# 123 -- 3 2 1"
      ],
      "execution_count": 0,
      "outputs": []
    },
    {
      "cell_type": "code",
      "metadata": {
        "id": "7mN6YrJAaKG6",
        "colab_type": "code",
        "colab": {
          "base_uri": "https://localhost:8080/",
          "height": 51
        },
        "outputId": "0fa69aef-b2a5-4bc5-95e7-93858d66efa2"
      },
      "source": [
        "a=int(input(' '))\n",
        "while a !=0:\n",
        "  r=a%10\n",
        "  print(r,end =' ')\n",
        "  a= a// 10\n",
        "   "
      ],
      "execution_count": 3,
      "outputs": [
        {
          "output_type": "stream",
          "text": [
            " 145\n",
            "5 4 1 "
          ],
          "name": "stdout"
        }
      ]
    },
    {
      "cell_type": "markdown",
      "metadata": {
        "id": "718gMHwhcvcS",
        "colab_type": "text"
      },
      "source": [
        "# functions in programming\n",
        "- program will be divides into subparts\n",
        "- it makes re-use of same code\n",
        "- functions makes the programming more easier\n",
        "- def is keyword which is used to define the function\n",
        "- function name follows the camel case always\n",
        "  - fun() is palindrome() is palindromecheck()\n",
        "- defination of the function is anything for the given requirement \n",
        "- def function name():\n",
        "  - statements\n",
        "  - return  "
      ]
    },
    {
      "cell_type": "code",
      "metadata": {
        "id": "YQK-nOKYezSi",
        "colab_type": "code",
        "colab": {}
      },
      "source": [
        "# read the input as number \n",
        "# print the output as large digit of the given number\n",
        "# 58952  -- 9\n",
        "# 753124 -- 7\n",
        "def largeDigit(n):\n",
        "  return\n",
        "largeDigit(589522) #9"
      ],
      "execution_count": 0,
      "outputs": []
    },
    {
      "cell_type": "code",
      "metadata": {
        "id": "AWmRUW-7Z4tT",
        "colab_type": "code",
        "colab": {
          "base_uri": "https://localhost:8080/",
          "height": 51
        },
        "outputId": "80ea4c8f-7e9a-4f20-f82e-8590f4108f0c"
      },
      "source": [
        "def largeDigit(n):\n",
        "  large = 0\n",
        "  while n!=0 :\n",
        "    r = n % 10\n",
        "    if large < r:\n",
        "      large = r\n",
        "    n = n // 10\n",
        "  return large\n",
        "n = int(input(' '))\n",
        "largeDigit(n)\n"
      ],
      "execution_count": 11,
      "outputs": [
        {
          "output_type": "stream",
          "text": [
            " 589522\n"
          ],
          "name": "stdout"
        },
        {
          "output_type": "execute_result",
          "data": {
            "text/plain": [
              "9"
            ]
          },
          "metadata": {
            "tags": []
          },
          "execution_count": 11
        }
      ]
    },
    {
      "cell_type": "code",
      "metadata": {
        "id": "rCKmtwlak4ep",
        "colab_type": "code",
        "colab": {}
      },
      "source": [
        "# read the input as number\n",
        "# sum of digits of the given number\n",
        "# 145 -- 10(1+4+5)"
      ],
      "execution_count": 0,
      "outputs": []
    },
    {
      "cell_type": "code",
      "metadata": {
        "id": "HU3Y_hY5k4hS",
        "colab_type": "code",
        "colab": {
          "base_uri": "https://localhost:8080/",
          "height": 51
        },
        "outputId": "84fd3e13-400b-43cc-84ff-81377fba943e"
      },
      "source": [
        "def sumofDigit(n):\n",
        "  s=0\n",
        "  while n!=0:\n",
        "    r=n%10\n",
        "    s=s+r\n",
        "    n=n//10\n",
        "  return s\n",
        "n=int(input(' '))\n",
        "sumofDigit(n)"
      ],
      "execution_count": 16,
      "outputs": [
        {
          "output_type": "stream",
          "text": [
            " 145\n"
          ],
          "name": "stdout"
        },
        {
          "output_type": "execute_result",
          "data": {
            "text/plain": [
              "10"
            ]
          },
          "metadata": {
            "tags": []
          },
          "execution_count": 16
        }
      ]
    },
    {
      "cell_type": "code",
      "metadata": {
        "id": "DMWBLyjuk4ku",
        "colab_type": "code",
        "colab": {
          "base_uri": "https://localhost:8080/",
          "height": 51
        },
        "outputId": "ef307dcb-3d25-41ba-ac46-875437f5c2f6"
      },
      "source": [
        "# read the input as number\n",
        "# print the output as \"palindrome\" or \"not a palindrome\"\n",
        "# a number reversed itslef is same as original number called as palindrome\n",
        "# 121 -- palindrome\n",
        "# 1889 -- not a palindrome\n",
        "# 145 -- not a palindrome\n",
        "def ispalindrome(n):\n",
        "   s = 0\n",
        "   buffer = n\n",
        "   while n != 0:\n",
        "     r = n % 10\n",
        "     s = s * 10 + r\n",
        "     n =n // 10\n",
        "   if s == buffer:\n",
        "     return \"palindrome\"\n",
        "   else:\n",
        "    return \"not a palindrome\"\n",
        "   return\n",
        "n=int(input(' '))\n",
        "ispalindrome(n)\n"
      ],
      "execution_count": 23,
      "outputs": [
        {
          "output_type": "stream",
          "text": [
            " 1889\n"
          ],
          "name": "stdout"
        },
        {
          "output_type": "execute_result",
          "data": {
            "text/plain": [
              "'not a palindrome'"
            ]
          },
          "metadata": {
            "tags": []
          },
          "execution_count": 23
        }
      ]
    },
    {
      "cell_type": "code",
      "metadata": {
        "id": "6JYrNL1SZ5ka",
        "colab_type": "code",
        "colab": {
          "base_uri": "https://localhost:8080/",
          "height": 51
        },
        "outputId": "46ce8392-8e27-4c30-d6c5-6fd0c8d5cfb0"
      },
      "source": [
        "# read the number as input\n",
        "# print the large digit from last three position of the number\n",
        "# test cases:\n",
        "# 59852 -- 8\n",
        "# 175215 -- 5\n",
        "def printlargeDigit(n):\n",
        "  i=0\n",
        "  large = 0\n",
        "  while i!=3:\n",
        "    r=n%10\n",
        "    if large < r:\n",
        "      large = r\n",
        "    n = n // 10\n",
        "    i = i + 1\n",
        "  return large\n",
        "n=int(input(' '))\n",
        "printlargeDigit(n)"
      ],
      "execution_count": 25,
      "outputs": [
        {
          "output_type": "stream",
          "text": [
            " 59852\n"
          ],
          "name": "stdout"
        },
        {
          "output_type": "execute_result",
          "data": {
            "text/plain": [
              "8"
            ]
          },
          "metadata": {
            "tags": []
          },
          "execution_count": 25
        }
      ]
    },
    {
      "cell_type": "code",
      "metadata": {
        "id": "YUUZlF-cZ5nQ",
        "colab_type": "code",
        "colab": {
          "base_uri": "https://localhost:8080/",
          "height": 51
        },
        "outputId": "3f94012c-7b11-406a-8fae-f12be3dddc9a"
      },
      "source": [
        "def printlargeDigit(n):\n",
        "  i=0\n",
        "  large=0\n",
        "  while i!=4:\n",
        "    r=n%10\n",
        "    if large < r:\n",
        "      large = r\n",
        "    n = n // 10\n",
        "    i = i + 1\n",
        "  return large\n",
        "n=int(input(' '))\n",
        "printlargeDigit(n)"
      ],
      "execution_count": 27,
      "outputs": [
        {
          "output_type": "stream",
          "text": [
            " 175215\n"
          ],
          "name": "stdout"
        },
        {
          "output_type": "execute_result",
          "data": {
            "text/plain": [
              "5"
            ]
          },
          "metadata": {
            "tags": []
          },
          "execution_count": 27
        }
      ]
    },
    {
      "cell_type": "code",
      "metadata": {
        "id": "s3lloeRCZ5pk",
        "colab_type": "code",
        "colab": {}
      },
      "source": [
        ""
      ],
      "execution_count": 0,
      "outputs": []
    },
    {
      "cell_type": "markdown",
      "metadata": {
        "id": "NIEABEanwH1a",
        "colab_type": "text"
      },
      "source": [
        "# datastructures of python programming\n",
        "- list\n",
        "- tuples\n",
        "- dictonaries\n",
        "- sets"
      ]
    },
    {
      "cell_type": "code",
      "metadata": {
        "id": "wpm2JGtXwFnY",
        "colab_type": "code",
        "colab": {
          "base_uri": "https://localhost:8080/",
          "height": 34
        },
        "outputId": "ea09c5e2-477d-4e1d-bf58-93a0068df30b"
      },
      "source": [
        "li = [1,2,3,4,5]\n",
        "print(li)"
      ],
      "execution_count": 28,
      "outputs": [
        {
          "output_type": "stream",
          "text": [
            "[1, 2, 3, 4, 5]\n"
          ],
          "name": "stdout"
        }
      ]
    },
    {
      "cell_type": "code",
      "metadata": {
        "id": "k78FA66wwWtL",
        "colab_type": "code",
        "colab": {
          "base_uri": "https://localhost:8080/",
          "height": 34
        },
        "outputId": "2cd85fa4-9c40-4fc0-c35b-780fb86ec6b8"
      },
      "source": [
        "li=[1,2,\"gitam\",189.2,199,\"hyderabad\"]\n",
        "print(li)"
      ],
      "execution_count": 29,
      "outputs": [
        {
          "output_type": "stream",
          "text": [
            "[1, 2, 'gitam', 189.2, 199, 'hyderabad']\n"
          ],
          "name": "stdout"
        }
      ]
    },
    {
      "cell_type": "code",
      "metadata": {
        "id": "nxglvU_qwFy5",
        "colab_type": "code",
        "colab": {
          "base_uri": "https://localhost:8080/",
          "height": 34
        },
        "outputId": "882df0b3-0a3b-40e4-9bbc-52413396cc87"
      },
      "source": [
        "li[1]"
      ],
      "execution_count": 30,
      "outputs": [
        {
          "output_type": "execute_result",
          "data": {
            "text/plain": [
              "2"
            ]
          },
          "metadata": {
            "tags": []
          },
          "execution_count": 30
        }
      ]
    },
    {
      "cell_type": "code",
      "metadata": {
        "id": "O3bZGpDJwF1E",
        "colab_type": "code",
        "colab": {
          "base_uri": "https://localhost:8080/",
          "height": 34
        },
        "outputId": "857f7c73-b604-4c61-b60c-828cc661cee2"
      },
      "source": [
        "for i in range(len(li)):\n",
        "  print(li[i],end=' ')"
      ],
      "execution_count": 33,
      "outputs": [
        {
          "output_type": "stream",
          "text": [
            "1 2 gitam 189.2 199 hyderabad "
          ],
          "name": "stdout"
        }
      ]
    },
    {
      "cell_type": "code",
      "metadata": {
        "id": "kEAE_XKowF57",
        "colab_type": "code",
        "colab": {
          "base_uri": "https://localhost:8080/",
          "height": 34
        },
        "outputId": "ebea211e-cc1d-497b-e614-ef92b3fb8856"
      },
      "source": [
        "for i in range(1,12):\n",
        "  print(i,end=' ')"
      ],
      "execution_count": 34,
      "outputs": [
        {
          "output_type": "stream",
          "text": [
            "1 2 3 4 5 6 7 8 9 10 11 "
          ],
          "name": "stdout"
        }
      ]
    },
    {
      "cell_type": "code",
      "metadata": {
        "id": "ThZBpiDFwF3u",
        "colab_type": "code",
        "colab": {
          "base_uri": "https://localhost:8080/",
          "height": 34
        },
        "outputId": "52760ac4-ec34-4f55-809f-643978b06dac"
      },
      "source": [
        "a=100\n",
        "b=4\n",
        "a%b"
      ],
      "execution_count": 35,
      "outputs": [
        {
          "output_type": "execute_result",
          "data": {
            "text/plain": [
              "0"
            ]
          },
          "metadata": {
            "tags": []
          },
          "execution_count": 35
        }
      ]
    },
    {
      "cell_type": "code",
      "metadata": {
        "id": "gB5uXV89yJBf",
        "colab_type": "code",
        "colab": {
          "base_uri": "https://localhost:8080/",
          "height": 34
        },
        "outputId": "2b94b4ef-00e3-45b9-804e-fa469615bd36"
      },
      "source": [
        "100//25"
      ],
      "execution_count": 36,
      "outputs": [
        {
          "output_type": "execute_result",
          "data": {
            "text/plain": [
              "4"
            ]
          },
          "metadata": {
            "tags": []
          },
          "execution_count": 36
        }
      ]
    },
    {
      "cell_type": "code",
      "metadata": {
        "id": "1JHcTS-ayb6f",
        "colab_type": "code",
        "colab": {}
      },
      "source": [
        ""
      ],
      "execution_count": 0,
      "outputs": []
    }
  ]
}