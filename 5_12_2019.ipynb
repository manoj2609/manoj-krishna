{
  "nbformat": 4,
  "nbformat_minor": 0,
  "metadata": {
    "colab": {
      "name": "5-12-2019",
      "provenance": [],
      "include_colab_link": true
    },
    "kernelspec": {
      "name": "python3",
      "display_name": "Python 3"
    }
  },
  "cells": [
    {
      "cell_type": "markdown",
      "metadata": {
        "id": "view-in-github",
        "colab_type": "text"
      },
      "source": [
        "<a href=\"https://colab.research.google.com/github/manoj2609/manoj-krishna/blob/master/5_12_2019.ipynb\" target=\"_parent\"><img src=\"https://colab.research.google.com/assets/colab-badge.svg\" alt=\"Open In Colab\"/></a>"
      ]
    },
    {
      "cell_type": "code",
      "metadata": {
        "id": "8RYKeVCnJolM",
        "colab_type": "code",
        "colab": {}
      },
      "source": [
        ""
      ],
      "execution_count": 0,
      "outputs": []
    },
    {
      "cell_type": "markdown",
      "metadata": {
        "id": "ZmxajWhTJrm-",
        "colab_type": "text"
      },
      "source": [
        "# list and list related examples"
      ]
    },
    {
      "cell_type": "code",
      "metadata": {
        "id": "mq2Y-10tJpe4",
        "colab_type": "code",
        "colab": {
          "base_uri": "https://localhost:8080/",
          "height": 34
        },
        "outputId": "157cacda-949c-4124-962d-c46d7278dc13"
      },
      "source": [
        "li = [1,2,3,4,5]\n",
        "print(len(li)) # len() which will return the len of the list"
      ],
      "execution_count": 76,
      "outputs": [
        {
          "output_type": "stream",
          "text": [
            "5\n"
          ],
          "name": "stdout"
        }
      ]
    },
    {
      "cell_type": "code",
      "metadata": {
        "id": "8VBXzyxqJph_",
        "colab_type": "code",
        "colab": {
          "base_uri": "https://localhost:8080/",
          "height": 34
        },
        "outputId": "aa234d75-277e-4bc2-b427-d83e1794f2f2"
      },
      "source": [
        "li[2] = 1546 # update the list item value\n",
        "print(li)"
      ],
      "execution_count": 32,
      "outputs": [
        {
          "output_type": "stream",
          "text": [
            "[1, 2, 1546, 4, 5]\n"
          ],
          "name": "stdout"
        }
      ]
    },
    {
      "cell_type": "code",
      "metadata": {
        "id": "CsbzcTnAJpn7",
        "colab_type": "code",
        "colab": {
          "base_uri": "https://localhost:8080/",
          "height": 34
        },
        "outputId": "983e0436-f54f-4b0d-e794-71a5b51ddb9b"
      },
      "source": [
        "del li[3] #del the specicfic index value \n",
        "print(li) "
      ],
      "execution_count": 33,
      "outputs": [
        {
          "output_type": "stream",
          "text": [
            "[1, 2, 1546, 5]\n"
          ],
          "name": "stdout"
        }
      ]
    },
    {
      "cell_type": "code",
      "metadata": {
        "id": "bM7dpK08O73o",
        "colab_type": "code",
        "colab": {
          "base_uri": "https://localhost:8080/",
          "height": 34
        },
        "outputId": "97c28d90-4edf-4518-93de-be95ac2edb03"
      },
      "source": [
        "for i in range(1,16,2):\n",
        "  print(i,end=' ')"
      ],
      "execution_count": 34,
      "outputs": [
        {
          "output_type": "stream",
          "text": [
            "1 3 5 7 9 11 13 15 "
          ],
          "name": "stdout"
        }
      ]
    },
    {
      "cell_type": "code",
      "metadata": {
        "id": "_7Wjd2HpJpr2",
        "colab_type": "code",
        "colab": {
          "base_uri": "https://localhost:8080/",
          "height": 85
        },
        "outputId": "226e4132-6a9e-4c1c-d090-a0f537d2fac4"
      },
      "source": [
        "print(li[-1]) # to access the last item of the\n",
        "print(li[-2])\n",
        "print(li[1:4]) #list slicing\n",
        "print(li[3:4])"
      ],
      "execution_count": 35,
      "outputs": [
        {
          "output_type": "stream",
          "text": [
            "5\n",
            "1546\n",
            "[2, 1546, 5]\n",
            "[5]\n"
          ],
          "name": "stdout"
        }
      ]
    },
    {
      "cell_type": "code",
      "metadata": {
        "id": "_IsFYJV7Rs8B",
        "colab_type": "code",
        "colab": {}
      },
      "source": [
        ""
      ],
      "execution_count": 0,
      "outputs": []
    },
    {
      "cell_type": "markdown",
      "metadata": {
        "id": "3ZBFhyk2SiYu",
        "colab_type": "text"
      },
      "source": [
        "# methods of list"
      ]
    },
    {
      "cell_type": "code",
      "metadata": {
        "id": "jeHkWu3ARtBf",
        "colab_type": "code",
        "colab": {
          "base_uri": "https://localhost:8080/",
          "height": 85
        },
        "outputId": "37601d0e-f370-45aa-9164-7a579973f147"
      },
      "source": [
        "print(sum(li))\n",
        "print(max(li)) # maxium value of list\n",
        "print(min(li)) # minium value of list\n",
        "print(sum(li)//len(li)) # avg"
      ],
      "execution_count": 37,
      "outputs": [
        {
          "output_type": "stream",
          "text": [
            "1554\n",
            "1546\n",
            "1\n",
            "388\n"
          ],
          "name": "stdout"
        }
      ]
    },
    {
      "cell_type": "code",
      "metadata": {
        "id": "lDIQXa5-Jpuj",
        "colab_type": "code",
        "colab": {
          "base_uri": "https://localhost:8080/",
          "height": 34
        },
        "outputId": "02cd87be-c311-43c9-8bac-6460144559c0"
      },
      "source": [
        "li"
      ],
      "execution_count": 38,
      "outputs": [
        {
          "output_type": "execute_result",
          "data": {
            "text/plain": [
              "[1, 2, 1546, 5]"
            ]
          },
          "metadata": {
            "tags": []
          },
          "execution_count": 38
        }
      ]
    },
    {
      "cell_type": "markdown",
      "metadata": {
        "id": "y9vA5PtHVd1O",
        "colab_type": "text"
      },
      "source": [
        "# list method\n",
        "- append\n",
        "- insert\n",
        "- count\n",
        "- index\n",
        "- sort"
      ]
    },
    {
      "cell_type": "code",
      "metadata": {
        "id": "4Rn8-WJ6Jpxq",
        "colab_type": "code",
        "colab": {
          "base_uri": "https://localhost:8080/",
          "height": 34
        },
        "outputId": "92e99805-4f64-4782-deed-2bdbe3c20381"
      },
      "source": [
        "li.append(100) # append will insert the new list item at the\n",
        "li"
      ],
      "execution_count": 55,
      "outputs": [
        {
          "output_type": "execute_result",
          "data": {
            "text/plain": [
              "[1, 2, 5, 59, 59, 100]"
            ]
          },
          "metadata": {
            "tags": []
          },
          "execution_count": 55
        }
      ]
    },
    {
      "cell_type": "code",
      "metadata": {
        "id": "nf-TXiSqJp0o",
        "colab_type": "code",
        "colab": {
          "base_uri": "https://localhost:8080/",
          "height": 34
        },
        "outputId": "0a1edb62-2819-49be-eddc-a36f1e26e253"
      },
      "source": [
        "li.insert(3,59) # insert the new item at any specified position\n",
        "li"
      ],
      "execution_count": 56,
      "outputs": [
        {
          "output_type": "execute_result",
          "data": {
            "text/plain": [
              "[1, 2, 5, 59, 59, 59, 100]"
            ]
          },
          "metadata": {
            "tags": []
          },
          "execution_count": 56
        }
      ]
    },
    {
      "cell_type": "code",
      "metadata": {
        "id": "ZSAbkQkDJp3p",
        "colab_type": "code",
        "colab": {
          "base_uri": "https://localhost:8080/",
          "height": 34
        },
        "outputId": "5ebd9863-ba19-4ed7-9091-8e5d51c54c8e"
      },
      "source": [
        "li.count(59) # count of list items how maney it repeted"
      ],
      "execution_count": 57,
      "outputs": [
        {
          "output_type": "execute_result",
          "data": {
            "text/plain": [
              "3"
            ]
          },
          "metadata": {
            "tags": []
          },
          "execution_count": 57
        }
      ]
    },
    {
      "cell_type": "code",
      "metadata": {
        "id": "tt6TVKTqJp7Y",
        "colab_type": "code",
        "colab": {
          "base_uri": "https://localhost:8080/",
          "height": 34
        },
        "outputId": "7f5ded75-bca4-4892-bbd8-727efd6b412d"
      },
      "source": [
        "li.count(100)"
      ],
      "execution_count": 58,
      "outputs": [
        {
          "output_type": "execute_result",
          "data": {
            "text/plain": [
              "1"
            ]
          },
          "metadata": {
            "tags": []
          },
          "execution_count": 58
        }
      ]
    },
    {
      "cell_type": "code",
      "metadata": {
        "id": "NB0DBn1aVSgA",
        "colab_type": "code",
        "colab": {
          "base_uri": "https://localhost:8080/",
          "height": 34
        },
        "outputId": "14d4fa1d-bebd-480f-f85d-6a6d374cd4a6"
      },
      "source": [
        "li.index(59)# it gives the index of the specified position"
      ],
      "execution_count": 59,
      "outputs": [
        {
          "output_type": "execute_result",
          "data": {
            "text/plain": [
              "3"
            ]
          },
          "metadata": {
            "tags": []
          },
          "execution_count": 59
        }
      ]
    },
    {
      "cell_type": "code",
      "metadata": {
        "id": "1rl4W-YdVYuP",
        "colab_type": "code",
        "colab": {
          "base_uri": "https://localhost:8080/",
          "height": 34
        },
        "outputId": "fcd6b4d0-56a3-4b12-d358-366b02c70771"
      },
      "source": [
        "li.sort() # sort the entire list\n",
        "li"
      ],
      "execution_count": 60,
      "outputs": [
        {
          "output_type": "execute_result",
          "data": {
            "text/plain": [
              "[1, 2, 5, 59, 59, 59, 100]"
            ]
          },
          "metadata": {
            "tags": []
          },
          "execution_count": 60
        }
      ]
    },
    {
      "cell_type": "code",
      "metadata": {
        "id": "U6jo2X9vVYw1",
        "colab_type": "code",
        "colab": {
          "base_uri": "https://localhost:8080/",
          "height": 34
        },
        "outputId": "1223ae13-8874-41de-ce3f-6079e7d0f558"
      },
      "source": [
        "li.pop() # pop() removes the item of last index\n",
        "li"
      ],
      "execution_count": 61,
      "outputs": [
        {
          "output_type": "execute_result",
          "data": {
            "text/plain": [
              "[1, 2, 5, 59, 59, 59]"
            ]
          },
          "metadata": {
            "tags": []
          },
          "execution_count": 61
        }
      ]
    },
    {
      "cell_type": "code",
      "metadata": {
        "id": "swqJ0FsjVYzq",
        "colab_type": "code",
        "colab": {
          "base_uri": "https://localhost:8080/",
          "height": 34
        },
        "outputId": "aae2e090-5274-4250-b66a-54753c0c1b6f"
      },
      "source": [
        "li.pop(2) # pop(index) removes the item on specified index\n",
        "li"
      ],
      "execution_count": 62,
      "outputs": [
        {
          "output_type": "execute_result",
          "data": {
            "text/plain": [
              "[1, 2, 59, 59, 59]"
            ]
          },
          "metadata": {
            "tags": []
          },
          "execution_count": 62
        }
      ]
    },
    {
      "cell_type": "code",
      "metadata": {
        "id": "7xu2eeWlVY3n",
        "colab_type": "code",
        "colab": {
          "base_uri": "https://localhost:8080/",
          "height": 34
        },
        "outputId": "d550dafd-6677-4bed-c030-7abfd4146dcd"
      },
      "source": [
        "# define a function to find out second large of the list\n",
        "# li = [1,9,16,25,2,3,64]\n",
        "# output = 25\n",
        "def secondLarge(li):\n",
        "  li.sort()\n",
        "  return li[-2]\n",
        "li = [1,9,16,25,2,3,64] \n",
        "secondLarge(li)"
      ],
      "execution_count": 63,
      "outputs": [
        {
          "output_type": "execute_result",
          "data": {
            "text/plain": [
              "25"
            ]
          },
          "metadata": {
            "tags": []
          },
          "execution_count": 63
        }
      ]
    },
    {
      "cell_type": "code",
      "metadata": {
        "id": "VnsdRud0XwmZ",
        "colab_type": "code",
        "colab": {
          "base_uri": "https://localhost:8080/",
          "height": 34
        },
        "outputId": "920dacfb-c791-4988-a35b-dd96f4623a81"
      },
      "source": [
        "def genericLarge(li,n):\n",
        "  li.sort()\n",
        "  return li[-n]\n",
        "genericLarge(li,4)"
      ],
      "execution_count": 65,
      "outputs": [
        {
          "output_type": "execute_result",
          "data": {
            "text/plain": [
              "9"
            ]
          },
          "metadata": {
            "tags": []
          },
          "execution_count": 65
        }
      ]
    },
    {
      "cell_type": "code",
      "metadata": {
        "id": "zaaGS64oXwpX",
        "colab_type": "code",
        "colab": {
          "base_uri": "https://localhost:8080/",
          "height": 34
        },
        "outputId": "3f805699-3eb5-424b-a6ec-1a413e27ecc4"
      },
      "source": [
        "def genericLeast(li,n):\n",
        "  li.sort()\n",
        "  return li[n]\n",
        "li = [1,9,16,25,2,3,64]\n",
        "genericLeast(li,2)"
      ],
      "execution_count": 69,
      "outputs": [
        {
          "output_type": "execute_result",
          "data": {
            "text/plain": [
              "3"
            ]
          },
          "metadata": {
            "tags": []
          },
          "execution_count": 69
        }
      ]
    },
    {
      "cell_type": "markdown",
      "metadata": {
        "id": "6hc5CnnTbbGp",
        "colab_type": "text"
      },
      "source": [
        "# number to list conversion\n",
        "- 19563212 - [1,9,5,6,3,2,1,2]"
      ]
    },
    {
      "cell_type": "code",
      "metadata": {
        "id": "wfnM2QVzXwzu",
        "colab_type": "code",
        "colab": {
          "base_uri": "https://localhost:8080/",
          "height": 34
        },
        "outputId": "3836e9d7-3b74-4c12-da5e-e9245b0c82e8"
      },
      "source": [
        "def numberToList(n):\n",
        "  li = [] # empty list\n",
        "  while n != 0:\n",
        "      r = n % 10\n",
        "      li.append(r)\n",
        "      n = n // 10\n",
        "  li.reverse()\n",
        "  return li\n",
        "numberToList(19563212)\n"
      ],
      "execution_count": 85,
      "outputs": [
        {
          "output_type": "execute_result",
          "data": {
            "text/plain": [
              "[1, 9, 5, 6, 3, 2, 1, 2]"
            ]
          },
          "metadata": {
            "tags": []
          },
          "execution_count": 85
        }
      ]
    },
    {
      "cell_type": "code",
      "metadata": {
        "id": "Kki5cc_HXw4l",
        "colab_type": "code",
        "colab": {}
      },
      "source": [
        ""
      ],
      "execution_count": 0,
      "outputs": []
    },
    {
      "cell_type": "markdown",
      "metadata": {
        "id": "5qrSTqPUe_6R",
        "colab_type": "text"
      },
      "source": [
        "# data structures-tuples\n",
        "- it is similar to list object\n",
        "- list will be enclosed in square brackets[]and tuples\n",
        "- will be enclosed with in paraenthesis()\n",
        "- list can be increased/decreased and tuple is fixed so that\n",
        "- you cant increase and decrease the tuple\n",
        "- it means list is mutable and tuple is immutable"
      ]
    },
    {
      "cell_type": "code",
      "metadata": {
        "id": "hyr4S5T6Xw69",
        "colab_type": "code",
        "colab": {
          "base_uri": "https://localhost:8080/",
          "height": 34
        },
        "outputId": "faae9cfb-ea0e-44ac-a99b-ac05ad44d37b"
      },
      "source": [
        "t1=(1,1,5,9,2)\n",
        "t1"
      ],
      "execution_count": 86,
      "outputs": [
        {
          "output_type": "execute_result",
          "data": {
            "text/plain": [
              "(1, 1, 5, 9, 2)"
            ]
          },
          "metadata": {
            "tags": []
          },
          "execution_count": 86
        }
      ]
    },
    {
      "cell_type": "code",
      "metadata": {
        "id": "VN1JLmvJXw2R",
        "colab_type": "code",
        "colab": {
          "base_uri": "https://localhost:8080/",
          "height": 34
        },
        "outputId": "cd0c7697-0b94-4c58-bae0-4415a8ce0ced"
      },
      "source": [
        "t1[0:4]"
      ],
      "execution_count": 87,
      "outputs": [
        {
          "output_type": "execute_result",
          "data": {
            "text/plain": [
              "(1, 1, 5, 9)"
            ]
          },
          "metadata": {
            "tags": []
          },
          "execution_count": 87
        }
      ]
    },
    {
      "cell_type": "code",
      "metadata": {
        "id": "1xdVHslBXwu3",
        "colab_type": "code",
        "colab": {
          "base_uri": "https://localhost:8080/",
          "height": 163
        },
        "outputId": "7a90870b-f617-4f4d-cfc2-b65005292b82"
      },
      "source": [
        "t1[2]=10"
      ],
      "execution_count": 88,
      "outputs": [
        {
          "output_type": "error",
          "ename": "TypeError",
          "evalue": "ignored",
          "traceback": [
            "\u001b[0;31m---------------------------------------------------------------------------\u001b[0m",
            "\u001b[0;31mTypeError\u001b[0m                                 Traceback (most recent call last)",
            "\u001b[0;32m<ipython-input-88-00309cd347b5>\u001b[0m in \u001b[0;36m<module>\u001b[0;34m()\u001b[0m\n\u001b[0;32m----> 1\u001b[0;31m \u001b[0mt1\u001b[0m\u001b[0;34m[\u001b[0m\u001b[0;36m2\u001b[0m\u001b[0;34m]\u001b[0m\u001b[0;34m=\u001b[0m\u001b[0;36m10\u001b[0m\u001b[0;34m\u001b[0m\u001b[0;34m\u001b[0m\u001b[0m\n\u001b[0m",
            "\u001b[0;31mTypeError\u001b[0m: 'tuple' object does not support item assignment"
          ]
        }
      ]
    },
    {
      "cell_type": "code",
      "metadata": {
        "id": "bgmq5mMGhFOA",
        "colab_type": "code",
        "colab": {
          "base_uri": "https://localhost:8080/",
          "height": 34
        },
        "outputId": "dc5d9fe0-477b-4cdb-b324-45de0953b74b"
      },
      "source": [
        "li=[1,2,3,4]\n",
        "li"
      ],
      "execution_count": 89,
      "outputs": [
        {
          "output_type": "execute_result",
          "data": {
            "text/plain": [
              "[1, 2, 3, 4]"
            ]
          },
          "metadata": {
            "tags": []
          },
          "execution_count": 89
        }
      ]
    },
    {
      "cell_type": "code",
      "metadata": {
        "id": "yRGQkn09hFUD",
        "colab_type": "code",
        "colab": {
          "base_uri": "https://localhost:8080/",
          "height": 34
        },
        "outputId": "1be80eae-7bb3-4443-e6cd-a203cdab32b3"
      },
      "source": [
        "li[2]=15\n",
        "li"
      ],
      "execution_count": 91,
      "outputs": [
        {
          "output_type": "execute_result",
          "data": {
            "text/plain": [
              "[1, 2, 15, 4]"
            ]
          },
          "metadata": {
            "tags": []
          },
          "execution_count": 91
        }
      ]
    },
    {
      "cell_type": "code",
      "metadata": {
        "id": "FJGh7C8BhFR9",
        "colab_type": "code",
        "colab": {
          "base_uri": "https://localhost:8080/",
          "height": 34
        },
        "outputId": "9c2ca09d-a4b3-4f84-a273-5b4158e9f535"
      },
      "source": [
        "li[0:2]"
      ],
      "execution_count": 92,
      "outputs": [
        {
          "output_type": "execute_result",
          "data": {
            "text/plain": [
              "[1, 2]"
            ]
          },
          "metadata": {
            "tags": []
          },
          "execution_count": 92
        }
      ]
    },
    {
      "cell_type": "markdown",
      "metadata": {
        "id": "kjxpPpJqhv_3",
        "colab_type": "text"
      },
      "source": [
        "# data structure-dictionaries\n",
        "- this data structure object is works on set of keysand\n",
        "- there will be unique key set will be defined\n",
        "- every key is separated from its value by colon(:)\n",
        "- every key and value pair is separated by comma(,)\n",
        "- it is defined with curly {}"
      ]
    },
    {
      "cell_type": "code",
      "metadata": {
        "id": "Qclm0-mRhvRH",
        "colab_type": "code",
        "colab": {
          "base_uri": "https://localhost:8080/",
          "height": 34
        },
        "outputId": "56a8e4c2-9397-4992-ddf7-8ef5759b6553"
      },
      "source": [
        "# define the dict d1={}\n",
        "d1= {\"name\":\"manoj\",\"EMAILID\":\"manojakula2609@gmail.com\",\"mobile number\":9550251241}\n",
        "print(d1)"
      ],
      "execution_count": 98,
      "outputs": [
        {
          "output_type": "stream",
          "text": [
            "{'name': 'manoj', 'EMAILID': 'manojakula2609@gmail.com', 'mobile number': 9550251241}\n"
          ],
          "name": "stdout"
        }
      ]
    },
    {
      "cell_type": "code",
      "metadata": {
        "id": "VYqqGTd0hvZV",
        "colab_type": "code",
        "colab": {
          "base_uri": "https://localhost:8080/",
          "height": 34
        },
        "outputId": "a4d8e8d9-f406-47df-8037-e00fca0d2323"
      },
      "source": [
        "print(d1[\"EMAILID\"]) # TO AXCESS THE SPECIFIC KEY VALUE"
      ],
      "execution_count": 99,
      "outputs": [
        {
          "output_type": "stream",
          "text": [
            "manojakula2609@gmail.com\n"
          ],
          "name": "stdout"
        }
      ]
    },
    {
      "cell_type": "code",
      "metadata": {
        "id": "L14ECfFphvV2",
        "colab_type": "code",
        "colab": {
          "base_uri": "https://localhost:8080/",
          "height": 34
        },
        "outputId": "97b9a255-4672-45f9-832e-3c49e42edc7b"
      },
      "source": [
        "d1[\"mobile number\"] # update the diret value"
      ],
      "execution_count": 100,
      "outputs": [
        {
          "output_type": "execute_result",
          "data": {
            "text/plain": [
              "9550251241"
            ]
          },
          "metadata": {
            "tags": []
          },
          "execution_count": 100
        }
      ]
    },
    {
      "cell_type": "code",
      "metadata": {
        "id": "cGm6EPJ2hvT7",
        "colab_type": "code",
        "colab": {}
      },
      "source": [
        ""
      ],
      "execution_count": 0,
      "outputs": []
    },
    {
      "cell_type": "markdown",
      "metadata": {
        "id": "ENpRev3FmZjr",
        "colab_type": "text"
      },
      "source": [
        "# contact application\n",
        "-- used concepts: dict,list and tuple\n",
        "# modules of contact application\n",
        "- add contact\n",
        "- search contacts\n",
        "- import the new contacts\n",
        "- update the contact detail\n",
        "- delete the contact"
      ]
    },
    {
      "cell_type": "code",
      "metadata": {
        "id": "HP26ZnHKhvOw",
        "colab_type": "code",
        "colab": {
          "base_uri": "https://localhost:8080/",
          "height": 68
        },
        "outputId": "00036fe5-0153-43e0-e0c9-5eff881d3c0e"
      },
      "source": [
        "contacts={}# empty dict object\n",
        "# define the function for add contacts\n",
        "def addcontacts(name,phone):\n",
        "  if name not in contacts:\n",
        "      contacts[name]= phone\n",
        "      print('contact added')\n",
        "  else:\n",
        "      print(\"contact is not added\")\n",
        "  return\n",
        "addcontacts('manoj',9550251241) # contact added\n",
        "addcontacts('kusa',8919853621) # contat added\n",
        "addcontacts('manoj',9865321470)# contact not added"
      ],
      "execution_count": 104,
      "outputs": [
        {
          "output_type": "stream",
          "text": [
            "contact added\n",
            "contact added\n",
            "contact is not added\n"
          ],
          "name": "stdout"
        }
      ]
    },
    {
      "cell_type": "code",
      "metadata": {
        "id": "ybfCOjmlmu2B",
        "colab_type": "code",
        "colab": {
          "base_uri": "https://localhost:8080/",
          "height": 34
        },
        "outputId": "78ba2017-a5f7-4e33-dcd7-06b3f07dd356"
      },
      "source": [
        "contacts"
      ],
      "execution_count": 105,
      "outputs": [
        {
          "output_type": "execute_result",
          "data": {
            "text/plain": [
              "{'kusa': 8919853621, 'manoj': 9550251241}"
            ]
          },
          "metadata": {
            "tags": []
          },
          "execution_count": 105
        }
      ]
    },
    {
      "cell_type": "code",
      "metadata": {
        "id": "EOBduDw-mu4w",
        "colab_type": "code",
        "colab": {
          "base_uri": "https://localhost:8080/",
          "height": 68
        },
        "outputId": "861145b3-e73a-4d53-f2cc-6160e4e0c8b5"
      },
      "source": [
        "# define function for search contacts\n",
        "def searchcontacts(name):\n",
        "     if name in contacts:\n",
        "          print(name ,\" : \", contacts[name])\n",
        "     else:\n",
        "          print('contact is not present')\n",
        "     return\n",
        "searchcontacts('manoj')\n",
        "searchcontacts('kusa')\n",
        "searchcontacts('bond')"
      ],
      "execution_count": 106,
      "outputs": [
        {
          "output_type": "stream",
          "text": [
            "manoj  :  9550251241\n",
            "kusa  :  8919853621\n",
            "contact is not present\n"
          ],
          "name": "stdout"
        }
      ]
    },
    {
      "cell_type": "code",
      "metadata": {
        "id": "aMgnlQPMmu_f",
        "colab_type": "code",
        "colab": {
          "base_uri": "https://localhost:8080/",
          "height": 34
        },
        "outputId": "994fd47d-7e6a-433b-bb65-92f451c56fb9"
      },
      "source": [
        "# define the function for import the new contacts\n",
        "def importcontacts(newcontacts):\n",
        "  contacts.update(newcontacts)\n",
        "  print('new contacts are added')\n",
        "  return\n",
        "newcontacts = {\"tillu\":9949486810,\"puli\":7780458452}\n",
        "importcontacts(newcontacts)"
      ],
      "execution_count": 119,
      "outputs": [
        {
          "output_type": "stream",
          "text": [
            "new contacts are added\n"
          ],
          "name": "stdout"
        }
      ]
    },
    {
      "cell_type": "code",
      "metadata": {
        "id": "zktZlpG4mu9P",
        "colab_type": "code",
        "colab": {
          "base_uri": "https://localhost:8080/",
          "height": 34
        },
        "outputId": "638a63ec-491b-4ab2-ce99-e944c45a8fc5"
      },
      "source": [
        "contacts"
      ],
      "execution_count": 118,
      "outputs": [
        {
          "output_type": "execute_result",
          "data": {
            "text/plain": [
              "{'kusa': 8919853621, 'manoj': 9660251540, 'tillu': 9949486810}"
            ]
          },
          "metadata": {
            "tags": []
          },
          "execution_count": 118
        }
      ]
    },
    {
      "cell_type": "code",
      "metadata": {
        "id": "S4qIPE6QXwr9",
        "colab_type": "code",
        "colab": {
          "base_uri": "https://localhost:8080/",
          "height": 51
        },
        "outputId": "77c428f3-884b-4715-f87a-42a54bebaaae"
      },
      "source": [
        "# define a function for update details\n",
        "def updatedetails(name,phone):\n",
        "  if name in contacts:\n",
        "    contacts[name] = phone\n",
        "    print('contact update is successful')\n",
        "  else:\n",
        "    print('please add new contact details')\n",
        "  return\n",
        "updatedetails('manoj',9660251540) # update is successful\n",
        "updatedetails('paul',9618218288) # please add contact"
      ],
      "execution_count": 113,
      "outputs": [
        {
          "output_type": "stream",
          "text": [
            "contact update is successful\n",
            "please add new contact details\n"
          ],
          "name": "stdout"
        }
      ]
    },
    {
      "cell_type": "code",
      "metadata": {
        "id": "h9SWIsyus2so",
        "colab_type": "code",
        "colab": {
          "base_uri": "https://localhost:8080/",
          "height": 51
        },
        "outputId": "7ab47143-c78f-45fa-b3b6-3876d7357a55"
      },
      "source": [
        "# define function to delete the contact details\n",
        "def deletecontacts(name):\n",
        "  if name in contacts:\n",
        "    del contacts[name]\n",
        "    print('contact is deleted')\n",
        "  else:\n",
        "    print('contact is not present')\n",
        "  return\n",
        "deletecontacts('puli')\n",
        "deletecontacts('paul')\n"
      ],
      "execution_count": 115,
      "outputs": [
        {
          "output_type": "stream",
          "text": [
            "contact is deleted\n",
            "contact is not present\n"
          ],
          "name": "stdout"
        }
      ]
    },
    {
      "cell_type": "code",
      "metadata": {
        "id": "v2nndjlDs2z8",
        "colab_type": "code",
        "colab": {
          "base_uri": "https://localhost:8080/",
          "height": 34
        },
        "outputId": "10c84385-edd3-40e8-ba08-7f9355d01e71"
      },
      "source": [
        "contacts"
      ],
      "execution_count": 117,
      "outputs": [
        {
          "output_type": "execute_result",
          "data": {
            "text/plain": [
              "{'kusa': 8919853621, 'manoj': 9660251540, 'tillu': 9949486810}"
            ]
          },
          "metadata": {
            "tags": []
          },
          "execution_count": 117
        }
      ]
    },
    {
      "cell_type": "code",
      "metadata": {
        "id": "_3r90aR4s2vm",
        "colab_type": "code",
        "colab": {}
      },
      "source": [
        ""
      ],
      "execution_count": 0,
      "outputs": []
    },
    {
      "cell_type": "markdown",
      "metadata": {
        "id": "ym-0SGIezqOK",
        "colab_type": "text"
      },
      "source": [
        "# string to list conversion\n",
        "- \"1 2 3 4 5 6\"-[1,2,3,4,5,6] "
      ]
    },
    {
      "cell_type": "code",
      "metadata": {
        "id": "2ry8U_gnzifF",
        "colab_type": "code",
        "colab": {
          "base_uri": "https://localhost:8080/",
          "height": 68
        },
        "outputId": "4e68a7fe-8599-427e-9071-f2bf1c104ff5"
      },
      "source": [
        "a = input('enter a number')\n",
        "print(type(a))\n",
        "print(a)"
      ],
      "execution_count": 127,
      "outputs": [
        {
          "output_type": "stream",
          "text": [
            "enter a number1 2 3 4 5 6\n",
            "<class 'str'>\n",
            "1 2 3 4 5 6\n"
          ],
          "name": "stdout"
        }
      ]
    },
    {
      "cell_type": "code",
      "metadata": {
        "id": "89LjM6UKzilo",
        "colab_type": "code",
        "colab": {
          "base_uri": "https://localhost:8080/",
          "height": 34
        },
        "outputId": "cd5ca73f-eb79-4d80-b056-b8b0caae590a"
      },
      "source": [
        "s = \"application test working\"\n",
        "li = s.split()\n",
        "print(li)"
      ],
      "execution_count": 125,
      "outputs": [
        {
          "output_type": "stream",
          "text": [
            "['application', 'test', 'working']\n"
          ],
          "name": "stdout"
        }
      ]
    },
    {
      "cell_type": "code",
      "metadata": {
        "id": "IJvArXt_zir6",
        "colab_type": "code",
        "colab": {
          "base_uri": "https://localhost:8080/",
          "height": 34
        },
        "outputId": "78885aee-120f-48e2-fdd8-49063b35ac01"
      },
      "source": [
        "s1 = \"gitam hyderabad python programming\"\n",
        "li1 = s1.split('a')\n",
        "print(li1)"
      ],
      "execution_count": 128,
      "outputs": [
        {
          "output_type": "stream",
          "text": [
            "['git', 'm hyder', 'b', 'd python progr', 'mming']\n"
          ],
          "name": "stdout"
        }
      ]
    },
    {
      "cell_type": "code",
      "metadata": {
        "id": "nxUMLHsczix-",
        "colab_type": "code",
        "colab": {
          "base_uri": "https://localhost:8080/",
          "height": 34
        },
        "outputId": "43420939-773e-4d61-d2a0-b8ca12fad70c"
      },
      "source": [
        "# define a function to convert the string to list\n",
        "def stringToList(s):\n",
        "  li=s.split() # divide the string by white space\n",
        "  # ['1','2',....'6']\n",
        "  numberList =[]\n",
        "  for i in li:\n",
        "      numberList.append(int(i))\n",
        "  return numberList\n",
        "stringToList('1 2 3 4 5 6')    "
      ],
      "execution_count": 131,
      "outputs": [
        {
          "output_type": "execute_result",
          "data": {
            "text/plain": [
              "[1, 2, 3, 4, 5, 6]"
            ]
          },
          "metadata": {
            "tags": []
          },
          "execution_count": 131
        }
      ]
    },
    {
      "cell_type": "code",
      "metadata": {
        "id": "JqjFLAIGs2pz",
        "colab_type": "code",
        "colab": {}
      },
      "source": [
        ""
      ],
      "execution_count": 0,
      "outputs": []
    }
  ]
}