{
  "nbformat": 4,
  "nbformat_minor": 0,
  "metadata": {
    "colab": {
      "name": "6-12-19",
      "provenance": [],
      "include_colab_link": true
    },
    "kernelspec": {
      "name": "python3",
      "display_name": "Python 3"
    }
  },
  "cells": [
    {
      "cell_type": "markdown",
      "metadata": {
        "id": "view-in-github",
        "colab_type": "text"
      },
      "source": [
        "<a href=\"https://colab.research.google.com/github/manoj2609/manoj-krishna/blob/master/6_12_19.ipynb\" target=\"_parent\"><img src=\"https://colab.research.google.com/assets/colab-badge.svg\" alt=\"Open In Colab\"/></a>"
      ]
    },
    {
      "cell_type": "code",
      "metadata": {
        "id": "x9IZaXhhST2o",
        "colab_type": "code",
        "colab": {}
      },
      "source": [
        ""
      ],
      "execution_count": 0,
      "outputs": []
    },
    {
      "cell_type": "markdown",
      "metadata": {
        "id": "qwmfFwhfoSVv",
        "colab_type": "text"
      },
      "source": [
        "# if x<y print square value of x"
      ]
    },
    {
      "cell_type": "code",
      "metadata": {
        "id": "Lb29tMtFSUmX",
        "colab_type": "code",
        "colab": {}
      },
      "source": [
        "\n",
        "int main()\n",
        "{\n",
        "\tint x,y;\n",
        "\tscanf(\"%d%d\",&x,&y);\n",
        "\tif(x>y){\n",
        "\t\tprintf(\"%d\",y*y);\n",
        "\t}\n",
        "\telse{\n",
        "\t\tprintf(\"%d\",x*x);\n",
        "\t}\n",
        "\treturn 0;\n",
        "}"
      ],
      "execution_count": 0,
      "outputs": []
    },
    {
      "cell_type": "code",
      "metadata": {
        "id": "jnJ2imfqSUo6",
        "colab_type": "code",
        "colab": {}
      },
      "source": [
        "# eligible for voting between ages of (18-85)"
      ],
      "execution_count": 0,
      "outputs": []
    },
    {
      "cell_type": "code",
      "metadata": {
        "id": "XjF2nV-sSUrg",
        "colab_type": "code",
        "colab": {}
      },
      "source": [
        "#include<stdio.h>\n",
        "int main()\n",
        "{\n",
        "\tint age;\n",
        "\tscanf(\"%d\",&age);\n",
        "\tif(age >=18 && age<=85) {\n",
        "\t\tprintf(\"eligible for voting\");\n",
        "\t\t}\n",
        "    else{\n",
        "    \tprintf(\"not eligible for voting\");\n",
        "\t}\t\n",
        "\treturn 0;\n",
        "}"
      ],
      "execution_count": 0,
      "outputs": []
    },
    {
      "cell_type": "code",
      "metadata": {
        "id": "tHfegwC1SUuP",
        "colab_type": "code",
        "colab": {}
      },
      "source": [
        "# lower and upper case letters\n",
        "// A-Z --- 65-90\n",
        "// a-z --- 90-127\n",
        "// o-9 --- 48-57\n",
        "#include<stdio.h>\n",
        "int main()\n",
        "{\n",
        "\tchar x;\n",
        "\tscanf(\"%c\",&x);\n",
        "\tif(x >=65 && x <=90)\n",
        "\t{\n",
        "\t\tprintf(\"upper case character\");\n",
        "\t}\n",
        "\telse if(x >=97 && x<=122)\n",
        "\t{\n",
        "\t\tprintf(\"lower case character\");\n",
        "\t}\n",
        "\telse if(x >=48 && x<=57)\n",
        "\t{\n",
        "\t\tprintf(\"digit character\");\n",
        "\t}\n",
        "\treturn 0;\n",
        "}"
      ],
      "execution_count": 0,
      "outputs": []
    },
    {
      "cell_type": "code",
      "metadata": {
        "id": "qAEkTHHISUxE",
        "colab_type": "code",
        "colab": {}
      },
      "source": [
        "# vowels and consonant \n",
        "#include<stdio.h>\n",
        "int main()\n",
        "{\n",
        "\tchar a;\n",
        "\tscanf(\"%c\",&a);\n",
        "\tif(a=='a' ||  a=='e' || a=='i' || a=='o' || a=='u')\n",
        "\t{\n",
        "\t\tprintf(\"vowel\");\n",
        "\t}\n",
        "\telse\n",
        "\t{\n",
        "\t\tprintf(\"consonant\");\n",
        "\t}\n",
        "\treturn 0;\n",
        "}"
      ],
      "execution_count": 0,
      "outputs": []
    },
    {
      "cell_type": "code",
      "metadata": {
        "id": "1zHdFIjYSU0M",
        "colab_type": "code",
        "colab": {}
      },
      "source": [
        "# divisible by 3 and 5 \n",
        "\n",
        "#include<stdio.h>\n",
        "int main()\n",
        "{\n",
        "\tint a;\n",
        "\tscanf(\"%d\",&a);\n",
        "\tif(a%3==0 && a%5==0)\n",
        "\t{\n",
        "\t\tprintf(\"divisible\");\n",
        "\t}\n",
        "\telse\n",
        "\t{\n",
        "\t\tprintf(\"not divisible\");\n",
        "\t} \n",
        "\treturn 0;\n",
        "}"
      ],
      "execution_count": 0,
      "outputs": []
    },
    {
      "cell_type": "code",
      "metadata": {
        "id": "N9QIEVKpSU3M",
        "colab_type": "code",
        "colab": {}
      },
      "source": [
        "# week days \n",
        "#include<stdio.h>\n",
        "int main()\n",
        "{\n",
        "\tint n;\n",
        "\tscanf(\"%d\",&n);\n",
        "\tif(n==1)\n",
        "\t{\n",
        "\t\tprintf(\"sunday\");\n",
        "\t}\n",
        "\telse if(n==2)\n",
        "\t{\n",
        "\t\tprintf(\"MONDAY\");\n",
        "\t}\n",
        "\telse if(n==3)\n",
        "\t{\n",
        "\t\tprintf(\"tuesday\");\n",
        "\t}\n",
        "\telse if(n==4)\n",
        "\t{\n",
        "\t\tprintf(\"wenesday\");\n",
        "\t}\n",
        "\telse if(n==5)\n",
        "\t{\n",
        "\t\tprintf(\"thusday\");\n",
        "\t}\n",
        "\telse if(n==6)\n",
        "\t{\n",
        "\t\tprintf(\"friday\");\t\n",
        "\t}\n",
        "\telse if(n==7)\n",
        "\t{\n",
        "\t\tprintf(\"sat\");\n",
        "\t}\n",
        "\treturn 0;\n",
        "\t\n",
        "}"
      ],
      "execution_count": 0,
      "outputs": []
    },
    {
      "cell_type": "code",
      "metadata": {
        "id": "HUMX6yGn5mb5",
        "colab_type": "code",
        "colab": {}
      },
      "source": [
        "# read the three angles as input  and check with these angles can we able to \n",
        "construct triangle are not.\n",
        "90 45 45 --- yes\n",
        "0 0 180 --- no\n",
        "60 90 30 --- yes\n",
        "#include<stdio.h>\n",
        "int main()\n",
        "{\n",
        "\tint a,b,c;\n",
        "\tscanf(\"%d%d%d\",&a,&b,&c);\n",
        "\tif(a!=0 && b!=0 && c!=0 && (a+b+c==180))\n",
        "\t{\n",
        "\t\tprintf(\"yes\");\n",
        "\t}\n",
        "\telse \n",
        "\t{\n",
        "\t\tprintf(\"not\");\n",
        "\t}\n",
        "\treturn 0;\n",
        "}"
      ],
      "execution_count": 0,
      "outputs": []
    },
    {
      "cell_type": "code",
      "metadata": {
        "id": "lXi2zO545mej",
        "colab_type": "code",
        "colab": {}
      },
      "source": [
        "# while(boolean_code)\n",
        "{\n",
        "    loop statements\n",
        "}\n",
        "-  while\n",
        "-  do-while\n",
        "-  for\n",
        "# in while loop first the condition will be tested and then after loop \n",
        "\n",
        "#include<stdio.h>\n",
        "int main()\n",
        "{\n",
        "\tint x,i=1;\n",
        "\tscanf(\"%d\",&x);\n",
        "\twhile(i<=x)\n",
        "\t{\n",
        "\t\n",
        "\t\tprintf(\"%d\",i);\n",
        "\t\ti++;//i=i+1\n",
        "\t}\n",
        "\t\treturn 0;\n",
        "}"
      ],
      "execution_count": 0,
      "outputs": []
    },
    {
      "cell_type": "code",
      "metadata": {
        "id": "v9NJMLt15miH",
        "colab_type": "code",
        "colab": {}
      },
      "source": [
        "#include<stdio.h>\n",
        "int main()\n",
        "{\n",
        "\tint x,i=1;\n",
        "\tscanf(\"%d\",&x);\n",
        "\twhile(i<=x)\n",
        "\t{\n",
        "\t\n",
        "\t\tprintf(\"%d\",i);\n",
        "\t\ti++;//i=i+1\n",
        "\t}\n",
        "\t\treturn 0;\n",
        "}"
      ],
      "execution_count": 0,
      "outputs": []
    },
    {
      "cell_type": "code",
      "metadata": {
        "id": "U5JC1eNh5mld",
        "colab_type": "code",
        "colab": {}
      },
      "source": [
        ""
      ],
      "execution_count": 0,
      "outputs": []
    },
    {
      "cell_type": "code",
      "metadata": {
        "id": "6Rap6KCl5mZV",
        "colab_type": "code",
        "colab": {}
      },
      "source": [
        ""
      ],
      "execution_count": 0,
      "outputs": []
    },
    {
      "cell_type": "code",
      "metadata": {
        "id": "VNmdvnrwSU6B",
        "colab_type": "code",
        "colab": {}
      },
      "source": [
        ""
      ],
      "execution_count": 0,
      "outputs": []
    },
    {
      "cell_type": "code",
      "metadata": {
        "id": "J5Q9eb72SU8Y",
        "colab_type": "code",
        "colab": {}
      },
      "source": [
        ""
      ],
      "execution_count": 0,
      "outputs": []
    }
  ]
}