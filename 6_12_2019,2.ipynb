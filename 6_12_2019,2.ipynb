{
  "nbformat": 4,
  "nbformat_minor": 0,
  "metadata": {
    "colab": {
      "name": "6-12-2019,2",
      "provenance": [],
      "include_colab_link": true
    },
    "kernelspec": {
      "name": "python3",
      "display_name": "Python 3"
    }
  },
  "cells": [
    {
      "cell_type": "markdown",
      "metadata": {
        "id": "view-in-github",
        "colab_type": "text"
      },
      "source": [
        "<a href=\"https://colab.research.google.com/github/manoj2609/manoj-krishna/blob/master/6_12_2019%2C2.ipynb\" target=\"_parent\"><img src=\"https://colab.research.google.com/assets/colab-badge.svg\" alt=\"Open In Colab\"/></a>"
      ]
    },
    {
      "cell_type": "code",
      "metadata": {
        "id": "59__j5iDUppz",
        "colab_type": "code",
        "colab": {}
      },
      "source": [
        "# divisible numbers in between any two numbers \n",
        "# make sure 3,5 divisible numbers\n",
        "\n",
        "#include<stdio.h>\n",
        "int main()\n",
        "{\n",
        "\tint x1,x2;\n",
        "\tscanf(\"%d%d\",&x1,&x2);\n",
        "\twhile(x1<=x2)\n",
        "\t{\n",
        "\t\tif(x1%3==0 && 1%5==0)\n",
        "\t\t{\n",
        "\t\t\tprintf(\"%d\",x1);\n",
        "\t\t}\n",
        "\t\tx1++;\n",
        "\t}\n",
        "\treturn 0;\n",
        "}"
      ],
      "execution_count": 0,
      "outputs": []
    },
    {
      "cell_type": "code",
      "metadata": {
        "id": "xfgQhQ5sZvI-",
        "colab_type": "code",
        "colab": {}
      },
      "source": [
        "# reverse the order of number 154 --- 451\n",
        "\n",
        "\n",
        "#include<stdio.h>\n",
        "int main()\n",
        "{\n",
        "\tint n ,s=0,r=0;\n",
        "\tscanf(\"%d\",&n);\n",
        "\twhile(n!=0)\n",
        "\t{\n",
        "\t\n",
        "\tr=n%10;\n",
        "\ts=s*10+r;\n",
        "\tn=n/10;\n",
        "}\n",
        "\t\n",
        "\t\tprintf(\"%d\",s);\n",
        "   \n",
        "\treturn 0;\n",
        "}"
      ],
      "execution_count": 0,
      "outputs": []
    },
    {
      "cell_type": "code",
      "metadata": {
        "id": "-AKcrCplZvMu",
        "colab_type": "code",
        "colab": {}
      },
      "source": [
        "# read the number as input and print the output as only sum of even numbers\n",
        "-1889 --- 16\n",
        "-145 ---4\n",
        "#include<stdio.h>\n",
        "int main()\n",
        "{\n",
        "\tint x,s=0,r;\n",
        "\tscanf(\"%d\",&x);\n",
        "\twhile(x!=0)\n",
        "\t{\n",
        "\t\t\n",
        "\t\tr=x%10;\n",
        "\t\tif(r%2==0)\n",
        "\t\t{\n",
        "\t\t s=s+r;\n",
        "\t\t}\n",
        "\t\tx=x/10;\n",
        "    } \n",
        "\t\tprintf(\"%d\",s);\n",
        "        return 0;\n",
        "}\n"
      ],
      "execution_count": 0,
      "outputs": []
    },
    {
      "cell_type": "code",
      "metadata": {
        "id": "NP3NhfMPZvP_",
        "colab_type": "code",
        "colab": {}
      },
      "source": [
        "#include<stdio.h>\n",
        "int main()\n",
        "{\n",
        "\tint x,r,s=0;\n",
        "\tscanf(\"%d\",&x);\n",
        "\twhile(x!=0)\n",
        "\t{\n",
        "\t\tr=x%10;\n",
        "\t\tswitch(r)\n",
        "\t\t{\n",
        "\t\t\tcase 0: printf(\"zero\");\n",
        "\t\t\tbreak;\n",
        "\t\t\tcase 1: printf(\"one\");\n",
        "\t\t\tbreak;\n",
        "\t\t\tcase 2: printf(\"two\");\n",
        "\t\t\tbreak;\n",
        "\t\t\tcase 3: printf(\"three\");\n",
        "\t\t\tbreak;\n",
        "\t\t\tcase 4: printf(\"four\");\n",
        "\t\t\tbreak;\n",
        "\t\t\tcase 5: printf(\"five\");\n",
        "\t\t\tbreak;\n",
        "\t\t    case 6: printf(\"six\");\n",
        "\t\t\tbreak;\n",
        "\t\t\tcase 7: printf(\"seven\");\n",
        "\t\t\tbreak;\n",
        "\t\t\tcase 8: printf(\"eight\");\n",
        "\t\t\tbreak;\t\n",
        "\t\t\tcase 9: printf(\"nine\");\n",
        "\t\t\tbreak;\n",
        "\t\t}\n",
        "\t\tprintf(\"%d\",x);\n",
        "\t\tx=x/10;\n",
        "\t}\n",
        "\treturn 0;\n",
        "}"
      ],
      "execution_count": 0,
      "outputs": []
    },
    {
      "cell_type": "code",
      "metadata": {
        "id": "WGnw547XhVwn",
        "colab_type": "code",
        "colab": {}
      },
      "source": [
        "#include<stdio.h>\n",
        "int main()\n",
        "{\n",
        "\tint x,r,large =0,small=10;\n",
        "\tscanf(\"%d\",&x);\n",
        "\twhile(x!=0)\n",
        "\t{\n",
        "\t\tr=x%10;\n",
        "\t\tif(large<r){\n",
        "\t\t\tlarge =r;\n",
        "\t\t}\n",
        "\t\tif(small>r){\n",
        "\t\t\tsmall =r;\n",
        "\t\t}\n",
        "\t\tx=x /10;\n",
        "    }\n",
        "    printf(\"<%d,%d>\",small,large );\n",
        "\treturn 0;\n",
        "}"
      ],
      "execution_count": 0,
      "outputs": []
    },
    {
      "cell_type": "code",
      "metadata": {
        "id": "0mKGXca0hVy8",
        "colab_type": "code",
        "colab": {}
      },
      "source": [
        "#include<stdio.h>\n",
        "int main()\n",
        "{\n",
        "\tint x,r,s=0;\n",
        "\tscanf(\"%d\",&x);\n",
        "\twhile(x!=0)\n",
        "\t{\n",
        "\t\tr=x%10;\n",
        "\t\tif(r==8){\n",
        "\t\t\ts +=2;\n",
        "\t\t}\n",
        "\t\telse if(r==0|| r==6|| r==9){\n",
        "\t\t\ts +=1;\n",
        "\t\t}\n",
        "\t\telse if(r==4){\n",
        "\t\t\ts +=2;\n",
        "\t\t}\n",
        "\t\tx/=10;\n",
        "    }\n",
        "\tprintf(\"%d\",s);\n",
        "\treturn 0;\n",
        "}"
      ],
      "execution_count": 0,
      "outputs": []
    },
    {
      "cell_type": "code",
      "metadata": {
        "id": "IR7YRoiRhV1S",
        "colab_type": "code",
        "colab": {}
      },
      "source": [
        "#include<stdio.h>\n",
        "int main()\n",
        "{\n",
        "\tint x,s=0,r, p;\n",
        "\tscanf(\"%d\",&x);\n",
        "\tp=x;\n",
        "\t while (x!=0)\n",
        "\t {\n",
        "     r = x % 10;\n",
        "     s = s * 10 + r;\n",
        "     x =x // 10;\n",
        "    }\n",
        "     x++;\n",
        "     if(p==s)\n",
        "     {\n",
        "     \tprintf(\"palindrome\");\n",
        "\t }\n",
        "\t else\n",
        "\t {\n",
        "\t \tprintf(\"not palindrome\");\n",
        "\t \treturn 0;\n",
        "\t }\n",
        "}"
      ],
      "execution_count": 0,
      "outputs": []
    },
    {
      "cell_type": "code",
      "metadata": {
        "id": "lMKuNYq4hV3r",
        "colab_type": "code",
        "colab": {}
      },
      "source": [
        ""
      ],
      "execution_count": 0,
      "outputs": []
    },
    {
      "cell_type": "code",
      "metadata": {
        "id": "sqptjDmfZvSr",
        "colab_type": "code",
        "colab": {}
      },
      "source": [
        ""
      ],
      "execution_count": 0,
      "outputs": []
    },
    {
      "cell_type": "code",
      "metadata": {
        "id": "UT99I7IDZvVB",
        "colab_type": "code",
        "colab": {}
      },
      "source": [
        ""
      ],
      "execution_count": 0,
      "outputs": []
    },
    {
      "cell_type": "code",
      "metadata": {
        "id": "oHxSn7YmZvYn",
        "colab_type": "code",
        "colab": {}
      },
      "source": [
        ""
      ],
      "execution_count": 0,
      "outputs": []
    }
  ]
}