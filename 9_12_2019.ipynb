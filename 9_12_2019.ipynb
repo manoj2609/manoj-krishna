{
  "nbformat": 4,
  "nbformat_minor": 0,
  "metadata": {
    "colab": {
      "name": "9-12-2019",
      "provenance": [],
      "include_colab_link": true
    },
    "kernelspec": {
      "name": "python3",
      "display_name": "Python 3"
    }
  },
  "cells": [
    {
      "cell_type": "markdown",
      "metadata": {
        "id": "view-in-github",
        "colab_type": "text"
      },
      "source": [
        "<a href=\"https://colab.research.google.com/github/manoj2609/manoj-krishna/blob/master/9_12_2019.ipynb\" target=\"_parent\"><img src=\"https://colab.research.google.com/assets/colab-badge.svg\" alt=\"Open In Colab\"/></a>"
      ]
    },
    {
      "cell_type": "code",
      "metadata": {
        "id": "fAiaN7oEyxlJ",
        "colab_type": "code",
        "colab": {}
      },
      "source": [
        ""
      ],
      "execution_count": 0,
      "outputs": []
    },
    {
      "cell_type": "markdown",
      "metadata": {
        "id": "7BSRN9v4y2si",
        "colab_type": "text"
      },
      "source": [
        "# read two limits as input (a1,a2) and\n",
        "# print the output as \"count as even palindrone\"\n",
        "# test case:\n",
        "     100 -- 8(2,4,6,8,22,44,66,88)"
      ]
    },
    {
      "cell_type": "code",
      "metadata": {
        "id": "Rhn3ehV6y1os",
        "colab_type": "code",
        "colab": {}
      },
      "source": [
        "#include<stdio.h>\n",
        "int ispalindrone(int n)\n",
        "{\n",
        "\tint rev=0,buffer=n;\n",
        "\twhile(n!=0)\n",
        "\t{\n",
        "\t\trev=rev*10+(n%10);\n",
        "\t\tn/=10; // n=n/10; \n",
        "\t}\n",
        "\tif(buffer==rev){\n",
        "\t\treturn 1;\n",
        "\t}\n",
        "\telse{\n",
        "\t\treturn 0;\n",
        "\t}\n",
        "}\n",
        "int main()\n",
        "{\n",
        "\tint i,a1,a2,res,pcnt=0;\n",
        "\tscanf(\"%d%d\",&a1,&a2);\n",
        "\tfor(i=a1;i<=a2;i++)\n",
        "\t{\n",
        "\t\tif(i%2==0)\n",
        "\t\t{\n",
        "\t\t\tres=ispalindrone(i);\n",
        "\t\t\tif(res==1){\n",
        "\t\t\t\tpcnt++;\n",
        "\t\t\t}\n",
        "\t\t}\n",
        "\t}\n",
        "\tprintf(\"%d\",pcnt);\n",
        "\treturn  0;\n",
        "}"
      ],
      "execution_count": 0,
      "outputs": []
    },
    {
      "cell_type": "code",
      "metadata": {
        "id": "6FO8LjTsy1q8",
        "colab_type": "code",
        "colab": {}
      },
      "source": [
        "# read the input as number and print the output as \n",
        "yes or no\n",
        "145 -- yes\n",
        "123 -- no\n",
        "reason for the output is individual digit factor sum\n",
        "is sa,e as original number so print \"yes\" otherwise \"no\"\n",
        "#include<stdio.h>\n",
        "int factorial(int x)\n",
        "{\n",
        "\tint i,fact=1;\n",
        "\tfor (i=x;i>0;i--)\n",
        "\t{\n",
        "\t\tfact*=i;\n",
        "\t}\n",
        "\treturn fact;\n",
        "}\n",
        "int main()\n",
        "{\n",
        "\tint n,r,s=0,buffer;\n",
        "\tscanf(\"%d\",&n);\n",
        "\tbuffer==n;\n",
        "    while(n!=0);\n",
        "    {\n",
        "    \tr=n%10;\n",
        "\t\ts=s+factorial(r);\n",
        "\t\tn/=10; \n",
        "\t}\n",
        "\tif(s==buffer)\n",
        "\t{\n",
        "\t\tprintf(\"yes\");\n",
        "    }\n",
        "    else{\n",
        "    \tprintf(\"no\");\n",
        "\t}\n",
        "\treturn 0;\n",
        "}\n"
      ],
      "execution_count": 0,
      "outputs": []
    },
    {
      "cell_type": "code",
      "metadata": {
        "id": "LzFlKqWey1vS",
        "colab_type": "code",
        "colab": {}
      },
      "source": [
        "# read the two inpus as input and print the count of \n",
        "perfect numbers in the given limit\n",
        "test cases:\n",
        "1 10 -- 1(6 -- 1+2+3)\n",
        "\n",
        "#include<stdio.h>\n",
        "int isperfect(int n)\n",
        "{\n",
        "\tint i,sum=0;\n",
        "\tfor(i=1;i<=(n/2);i++)\n",
        "\t{\n",
        "\t\tif(n%i==0)\n",
        "\t\t{\n",
        "\t\t\tsum = sum+i;\n",
        "\t\t}\n",
        "\t}\n",
        "\tif(sum==n)\n",
        "\t{\n",
        "\t\t//printf(\"%d\",sum)\n",
        "\t\treturn 1;\n",
        "\t}\n",
        "\telse{\n",
        "\t\treturn 0;\n",
        "\t}\n",
        "}\n",
        "int main()\n",
        "{\n",
        "\tint a1,a2,i,res,perfectcnt=0;\n",
        "\tscanf(\"%d%d\",&a1,&a2);\n",
        "\tfor(i=a1;i<=a2;i++)\n",
        "\t{\n",
        "\t\tres = isperfect(i);\n",
        "\t\tif(res==1){\n",
        "\t\t\tperfectcnt++;\n",
        "\t\t}\n",
        "\t}\n",
        "\tprintf(\"%d\",perfectcnt);\n",
        "\treturn 0;\n",
        "}"
      ],
      "execution_count": 0,
      "outputs": []
    },
    {
      "cell_type": "code",
      "metadata": {
        "id": "j5qJtfdGKMr7",
        "colab_type": "code",
        "colab": {}
      },
      "source": [
        "# read the input and print the output as sum of each digits to power of digit count\n",
        "test case:\n",
        "121 -- 10(1^3+2^3+1*3)\n",
        "1223 -- 114(1^4+2^4+2^4+3^4)\n",
        "\n",
        "#include<stdio.h>\n",
        "#include<math.h>\n",
        "int digitcount(int n)\n",
        "{\n",
        "\tint cnt=0,r;\n",
        "\twhile(n!=0)\n",
        "\t{\n",
        "\t\tcnt++;\n",
        "\t\tn/=10;\n",
        "\t}\n",
        "\treturn cnt;\n",
        "}\n",
        "int main()\n",
        "{\n",
        "\tint x,dgtcnt,r,sum=0;\n",
        "\tscanf(\"%d\",&x);\n",
        "\tdgtcnt=digitcount(x);\n",
        "\twhile(x!=0)\n",
        "\t{\n",
        "\t\tr=x%10;\n",
        "\t\tsum=sum+pow(r,dgtcnt);\n",
        "\t\tx/=10;\n",
        "\t}\n",
        "\tprintf(\"%d\",sum);\n",
        "\treturn 0;\n",
        "}\n",
        "\n"
      ],
      "execution_count": 0,
      "outputs": []
    },
    {
      "cell_type": "code",
      "metadata": {
        "id": "4TbmheowKMue",
        "colab_type": "code",
        "colab": {}
      },
      "source": [
        "# read the input as two numbers and print the series of prime numbers\n",
        "between the two limits\n",
        "1 10--- 1,2,3,5,7\n",
        "#include<stdio.h>\n",
        "int isPrime(n)\n",
        "{\n",
        "\tint i,flag=0;\n",
        "\tfor(i=1;i<=(n/2);i++)\n",
        "\t{\n",
        "\t\tif(n%i==0)\n",
        "\t\t{\n",
        "\t\t\tflag=1;\n",
        "\t\t\tbreak;\n",
        "\t\t}\n",
        "\t}\n",
        "\tif(flag==0)\n",
        "\t{\n",
        "\t\treturn 1;\n",
        "\t}\n",
        "\telse\n",
        "\t{\n",
        "\t\treturn 0;\n",
        "\t}\n",
        "}\n",
        "int main()\n",
        "{\n",
        "\tint x,y,i,res;\n",
        "\tscanf(\"%d%d\",&x,&y);\n",
        "\tfor(i=x;i<=y;i++)\n",
        "\t{\n",
        "\t\tres=isPrime(i);\n",
        "\t\tif(res==1)\n",
        "\t\t{\n",
        "\t\t\tprintf(\"%d\",i);\n",
        "\t\t}\n",
        "\t}\n",
        "\treturn 0;\n",
        "}"
      ],
      "execution_count": 0,
      "outputs": []
    },
    {
      "cell_type": "code",
      "metadata": {
        "id": "d0_xaG0RKMxM",
        "colab_type": "code",
        "colab": {}
      },
      "source": [
        ""
      ],
      "execution_count": 0,
      "outputs": []
    },
    {
      "cell_type": "code",
      "metadata": {
        "id": "qeaBZoJmKMpW",
        "colab_type": "code",
        "colab": {}
      },
      "source": [
        ""
      ],
      "execution_count": 0,
      "outputs": []
    },
    {
      "cell_type": "code",
      "metadata": {
        "id": "48hEbIOqy1yr",
        "colab_type": "code",
        "colab": {}
      },
      "source": [
        ""
      ],
      "execution_count": 0,
      "outputs": []
    },
    {
      "cell_type": "code",
      "metadata": {
        "id": "E-jz8U4xy11z",
        "colab_type": "code",
        "colab": {}
      },
      "source": [
        ""
      ],
      "execution_count": 0,
      "outputs": []
    },
    {
      "cell_type": "code",
      "metadata": {
        "id": "x4eFI2Vny171",
        "colab_type": "code",
        "colab": {}
      },
      "source": [
        ""
      ],
      "execution_count": 0,
      "outputs": []
    },
    {
      "cell_type": "markdown",
      "metadata": {
        "id": "Z2a1BW0zy2Fk",
        "colab_type": "text"
      },
      "source": [
        ""
      ]
    },
    {
      "cell_type": "code",
      "metadata": {
        "id": "GjG6zgpxy15x",
        "colab_type": "code",
        "colab": {}
      },
      "source": [
        ""
      ],
      "execution_count": 0,
      "outputs": []
    }
  ]
}